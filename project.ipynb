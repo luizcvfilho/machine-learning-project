{
 "cells": [
  {
   "cell_type": "markdown",
   "id": "51dd3cf8",
   "metadata": {},
   "source": [
    "# Imports"
   ]
  },
  {
   "cell_type": "code",
   "execution_count": null,
   "id": "a612b6f8",
   "metadata": {},
   "outputs": [],
   "source": [
    "import pandas as pd\n",
    "import numpy as np\n",
    "import matplotlib.pyplot as plt\n",
    "import seaborn as sns\n",
    "from sklearn.preprocessing import MinMaxScaler\n",
    "from scipy.stats import friedmanchisquare, ttest_rel\n",
    "from sklearn.model_selection import train_test_split, GridSearchCV, RepeatedStratifiedKFold, cross_val_score\n",
    "from sklearn.linear_model import LogisticRegression\n",
    "from sklearn.svm  import SVC\n",
    "from sklearn.ensemble  import RandomForestClassifier\n",
    "from sklearn.tree import DecisionTreeClassifier\n",
    "from sklearn.neural_network import MLPClassifier\n",
    "from sklearn.neighbors import KNeighborsClassifier\n",
    "from sklearn.metrics import classification_report, confusion_matrix\n",
    "from itertools import combinations"
   ]
  },
  {
   "cell_type": "markdown",
   "id": "51e5622b",
   "metadata": {},
   "source": [
    "# Análise e tratamento dos dados"
   ]
  },
  {
   "cell_type": "code",
   "execution_count": null,
   "id": "baa526ec",
   "metadata": {},
   "outputs": [],
   "source": [
    "df = pd.read_csv('winequality-red.csv')\n",
    "df.head()"
   ]
  },
  {
   "cell_type": "code",
   "execution_count": null,
   "id": "cdd9a41b",
   "metadata": {},
   "outputs": [],
   "source": [
    "df.isna().sum()"
   ]
  },
  {
   "cell_type": "code",
   "execution_count": null,
   "id": "76bb9ec1",
   "metadata": {},
   "outputs": [],
   "source": [
    "df.info()"
   ]
  },
  {
   "cell_type": "code",
   "execution_count": null,
   "id": "61d76f72",
   "metadata": {},
   "outputs": [],
   "source": [
    "df.describe()"
   ]
  },
  {
   "cell_type": "code",
   "execution_count": null,
   "id": "d688b10b",
   "metadata": {},
   "outputs": [],
   "source": [
    "df.plot(kind='box', subplots=True, layout=(3, 4), figsize=(16, 10), sharex=False, sharey=False)\n",
    "plt.tight_layout()\n",
    "plt.show()"
   ]
  },
  {
   "cell_type": "code",
   "execution_count": null,
   "id": "d3803f27",
   "metadata": {},
   "outputs": [],
   "source": [
    "plt.figure(figsize=(11,9))\n",
    "plotnumber=1\n",
    "\n",
    "cont_col = [col for col in df.columns if col != 'quality']\n",
    "\n",
    "for column in cont_col:\n",
    "    ax=plt.subplot(4,3,plotnumber)\n",
    "    sns.barplot(x='quality', y=df[column], data=df, palette = 'viridis', errorbar=None, hue='quality', legend=False)\n",
    "    \n",
    "    plt.xlabel('Quality')\n",
    "    plt.ylabel(column)\n",
    "    plotnumber+=1\n",
    "plt.tight_layout()"
   ]
  },
  {
   "cell_type": "code",
   "execution_count": null,
   "id": "afee29f6",
   "metadata": {},
   "outputs": [],
   "source": [
    "correlations = df.corr(numeric_only=True)['quality'].drop('quality').sort_values(ascending=False)\n",
    "\n",
    "plt.figure(figsize=(10, 6))\n",
    "sns.barplot(x=correlations.values, y=correlations.index, palette='viridis', hue=correlations.index, legend=False)\n",
    "plt.xlabel('Correlação com a qualidade')\n",
    "plt.ylabel('Atributo')\n",
    "plt.title('Influência dos atributos na qualidade do vinho')\n",
    "plt.tight_layout()\n",
    "plt.show()"
   ]
  },
  {
   "cell_type": "code",
   "execution_count": null,
   "id": "0a2900c7",
   "metadata": {},
   "outputs": [],
   "source": [
    "crr = df.corr()\n",
    "plt.figure(figsize=(9, 6))\n",
    "sns.heatmap(crr, annot=True, fmt='.2f', cmap='coolwarm', square=True, cbar_kws={\"shrink\": .8}, linewidths=0.5)\n",
    "plt.title('Matriz de Correlação')\n",
    "plt.show()"
   ]
  },
  {
   "cell_type": "code",
   "execution_count": null,
   "id": "590c2e3c",
   "metadata": {},
   "outputs": [],
   "source": [
    "df.quality.unique()"
   ]
  },
  {
   "cell_type": "code",
   "execution_count": null,
   "id": "90ad49d2",
   "metadata": {},
   "outputs": [],
   "source": [
    "df = df.replace({'quality' : {\n",
    "        8 : 'Good',\n",
    "        7 : 'Good',\n",
    "        6 : 'Middle',\n",
    "        5 : 'Middle',\n",
    "        4 : 'Bad',\n",
    "        3 : 'Bad',\n",
    "        }}\n",
    ")\n",
    "df.head()"
   ]
  },
  {
   "cell_type": "code",
   "execution_count": null,
   "id": "122eb6ea",
   "metadata": {},
   "outputs": [],
   "source": [
    "X_temp = df.drop(columns='quality')\n",
    "y = df.quality\n",
    "y"
   ]
  },
  {
   "cell_type": "code",
   "execution_count": null,
   "id": "1169c94c",
   "metadata": {},
   "outputs": [],
   "source": [
    "scaler = MinMaxScaler(feature_range=(0, 1)).fit_transform(X_temp)\n",
    "x = pd.DataFrame(scaler, columns=X_temp.columns)\n",
    "x.describe()"
   ]
  },
  {
   "cell_type": "code",
   "execution_count": null,
   "id": "faff113a",
   "metadata": {},
   "outputs": [],
   "source": [
    "x_train, x_test, y_train, y_test = train_test_split(x, y, test_size=0.25, random_state=0)"
   ]
  },
  {
   "cell_type": "markdown",
   "id": "9575ca9a",
   "metadata": {},
   "source": [
    "# Modelos"
   ]
  },
  {
   "cell_type": "code",
   "execution_count": null,
   "id": "093786bf",
   "metadata": {},
   "outputs": [],
   "source": [
    "best_estimators = {}\n",
    "cv_distributions = {}"
   ]
  },
  {
   "cell_type": "markdown",
   "id": "04391eca",
   "metadata": {},
   "source": [
    "## LogisticRegression"
   ]
  },
  {
   "cell_type": "code",
   "execution_count": null,
   "id": "d2943b12",
   "metadata": {},
   "outputs": [],
   "source": [
    "parameters = {\n",
    "    'C' : [0.001, 0.01, 0.1, 1.0, 10, 100, 1000],\n",
    "    'class_weight' : ['balanced'],\n",
    "    'solver' : ['lbfgs', 'liblinear', 'newton-cg', 'newton-cholesky']\n",
    "}\n",
    "\n",
    "\n",
    "lr = LogisticRegression()\n",
    "lr_cv = GridSearchCV(estimator=lr, param_grid=parameters, cv=20).fit(x_train, y_train)\n",
    "\n",
    "print('Tuned hyper parameters : ', lr_cv.best_params_)\n",
    "print('accuracy : ', lr_cv.best_score_)\n",
    "\n",
    "best_lr = lr_cv.best_estimator_\n",
    "best_estimators['LogisticRegression'] = best_lr\n",
    "\n",
    "lr_score = best_lr.score(x_test, y_test)\n",
    "print('LogisticRegression score : ', lr_score)"
   ]
  },
  {
   "cell_type": "markdown",
   "id": "bc7e62f1",
   "metadata": {},
   "source": [
    "## RandomForestClassifier"
   ]
  },
  {
   "cell_type": "code",
   "execution_count": null,
   "id": "b0c3e2df",
   "metadata": {},
   "outputs": [],
   "source": [
    "parameters = {\n",
    "    'n_estimators': [50, 150, 500],\n",
    "    'criterion':    ['gini','entropy','log_loss'],\n",
    "    'max_features': ['sqrt','log2']\n",
    "}\n",
    "\n",
    "\n",
    "rf = RandomForestClassifier(n_jobs=-1)\n",
    "rf_cv = GridSearchCV(estimator=rf, param_grid=parameters, cv=10).fit(x_train, y_train)\n",
    "\n",
    "print('Tuned hyper parameters : ', rf_cv.best_params_)\n",
    "print('accuracy : ', rf_cv.best_score_)\n",
    "\n",
    "best_rf = rf_cv.best_estimator_\n",
    "best_estimators['RandomForest'] = best_rf\n",
    "\n",
    "rf_score = best_rf.score(x_test, y_test)\n",
    "print('RandomForest score : ', rf_score)"
   ]
  },
  {
   "cell_type": "markdown",
   "id": "9b91467d",
   "metadata": {},
   "source": [
    "## SVM (SVC)"
   ]
  },
  {
   "cell_type": "code",
   "execution_count": null,
   "id": "416c9ae4",
   "metadata": {},
   "outputs": [],
   "source": [
    "parameters = {\n",
    "    'C' : [0.001, 0.01, 0.1, 1.0, 10, 100],\n",
    "    'gamma' : [0.001, 0.01, 0.1, 1.0, 10, 100],\n",
    "    'class_weight' : ['balanced'],\n",
    "}\n",
    "\n",
    "svc = SVC()\n",
    "svc_cv = GridSearchCV(estimator=svc, param_grid=parameters, cv=5).fit(x_train, y_train)\n",
    "\n",
    "print('Tuned hyper parameters : ', svc_cv.best_params_)\n",
    "print('accuracy : ', svc_cv.best_score_)\n",
    "\n",
    "best_svc = svc_cv.best_estimator_\n",
    "best_estimators['SVC'] = best_svc\n",
    "\n",
    "svc_score = best_svc.score(x_test, y_test)\n",
    "print('SVC score : ', svc_score)"
   ]
  },
  {
   "cell_type": "markdown",
   "id": "b81cc13f",
   "metadata": {},
   "source": [
    "## DecisionTreeClassifier"
   ]
  },
  {
   "cell_type": "code",
   "execution_count": null,
   "id": "39c569a1",
   "metadata": {},
   "outputs": [],
   "source": [
    "parameters = {\n",
    "    'criterion': ['gini', 'entropy'],\n",
    "    'splitter' : ['best', 'random'],\n",
    "    'max_depth': list(np.arange(4, 30, 1)),\n",
    "    'min_samples_split':[2, 5]\n",
    "}\n",
    "\n",
    "\n",
    "dt = DecisionTreeClassifier()\n",
    "dt_cv = GridSearchCV(estimator=dt, param_grid=parameters, cv=20).fit(x_train, y_train)\n",
    "\n",
    "print('Tuned hyper parameters : ', dt_cv.best_params_)\n",
    "print('accuracy : ', dt_cv.best_score_)\n",
    "\n",
    "best_dt = dt_cv.best_estimator_\n",
    "best_estimators['DecisionTreeClassifier'] = best_dt\n",
    "\n",
    "dt_score = best_dt.score(x_test, y_test)\n",
    "print('DecisionTreeClassifier score : ', dt_score)"
   ]
  },
  {
   "cell_type": "markdown",
   "id": "fe9a76d4",
   "metadata": {},
   "source": [
    "## KNeighborsClassifier"
   ]
  },
  {
   "cell_type": "code",
   "execution_count": null,
   "id": "cc0f73f4",
   "metadata": {},
   "outputs": [],
   "source": [
    "parameters = {\n",
    "    'n_neighbors' : list(np.arange(3, 50, 2)),\n",
    "    'weights': ['uniform', 'distance'],\n",
    "    'p' : [1, 2, 3, 4]\n",
    "}\n",
    "\n",
    "\n",
    "knn = KNeighborsClassifier()\n",
    "knn_cv = GridSearchCV(estimator=knn, param_grid=parameters, cv=20).fit(x_train, y_train)\n",
    "\n",
    "print('Tuned hyper parameters : ', knn_cv.best_params_)\n",
    "print('accuracy : ', knn_cv.best_score_)\n",
    "\n",
    "best_knn = knn_cv.best_estimator_\n",
    "best_estimators['KNeighborsClassifier'] = best_knn\n",
    "\n",
    "knn_score = best_knn.score(x_test, y_test)\n",
    "print('KNeighborsClassifier score : ', knn_score)"
   ]
  },
  {
   "cell_type": "markdown",
   "id": "0100a25f",
   "metadata": {},
   "source": [
    "## Rede Neural"
   ]
  },
  {
   "cell_type": "code",
   "execution_count": null,
   "id": "9c44a9c1",
   "metadata": {},
   "outputs": [],
   "source": [
    "parameters = {\n",
    "    'hidden_layer_sizes': [(50,), (100,)],\n",
    "    'activation':  ['relu', 'tanh'],\n",
    "    'solver': ['adam', 'sgd'],\n",
    "    'alpha': [0.0001, 0.001] \n",
    "}\n",
    "\n",
    "\n",
    "mlp = MLPClassifier(max_iter=500)\n",
    "mlp_cv = GridSearchCV(estimator=mlp, param_grid=parameters, cv=10).fit(x_train, y_train)\n",
    "\n",
    "print('Tuned hyper parameters : ', mlp_cv.best_params_)\n",
    "print('accuracy : ', mlp_cv.best_score_)\n",
    "\n",
    "best_mlp = mlp_cv.best_estimator_\n",
    "best_estimators['MLPClassifier'] = best_mlp\n",
    "\n",
    "mlp_score = best_mlp.score(x_test, y_test)\n",
    "print('MLPClassifier score : ', mlp_score)"
   ]
  },
  {
   "cell_type": "markdown",
   "id": "97ff2a56",
   "metadata": {},
   "source": [
    "# Análise de resultados"
   ]
  },
  {
   "cell_type": "code",
   "execution_count": null,
   "id": "87288fa1",
   "metadata": {},
   "outputs": [],
   "source": [
    "cv = RepeatedStratifiedKFold(n_splits=5, n_repeats=30, random_state=42)"
   ]
  },
  {
   "cell_type": "code",
   "execution_count": null,
   "id": "eed14df2",
   "metadata": {},
   "outputs": [],
   "source": [
    "for name, model in best_estimators.items():\n",
    "    print(f\"\\n=== Métricas no hold-out para {name} ===\")\n",
    "\n",
    "    y_pred = model.predict(x_test)\n",
    "    print(\"-- Classification Report --\")\n",
    "    print(classification_report(\n",
    "        y_test, y_pred, digits=3,\n",
    "        zero_division=0\n",
    "    ))\n",
    "    print(\"-- Confusion Matrix --\")\n",
    "    print(confusion_matrix(y_test, y_pred))\n"
   ]
  },
  {
   "cell_type": "code",
   "execution_count": null,
   "id": "743ba166",
   "metadata": {},
   "outputs": [],
   "source": [
    "for name, est in best_estimators.items():\n",
    "    scores = cross_val_score(\n",
    "        est, x, y,\n",
    "        cv=cv,\n",
    "        scoring='accuracy',\n",
    "        n_jobs=-1\n",
    "    )\n",
    "    cv_distributions[name] = scores\n",
    "    print(f\"{name}: mean={scores.mean():.4f} ± {scores.std():.4f}\")"
   ]
  },
  {
   "cell_type": "code",
   "execution_count": null,
   "id": "8968e956",
   "metadata": {},
   "outputs": [],
   "source": [
    "df = pd.DataFrame(cv_distributions)\n",
    "sns.boxplot(data=df)"
   ]
  },
  {
   "cell_type": "code",
   "execution_count": null,
   "id": "1cedb350",
   "metadata": {},
   "outputs": [],
   "source": [
    "stat, p = friedmanchisquare(*cv_distributions.values())\n",
    "print(f\"Friedman χ²={stat:.3f}, p={p:.4f}\")\n",
    "if p < 0.05:\n",
    "    print(\"→ Há diferença significativa em pelo menos um par de algoritmos\")"
   ]
  },
  {
   "cell_type": "code",
   "execution_count": null,
   "id": "460fc1c0",
   "metadata": {},
   "outputs": [],
   "source": [
    "alpha = 0.05\n",
    "m = len(cv_distributions)\n",
    "comparisons = list(combinations(cv_distributions.keys(), 2))\n",
    "for a, b in comparisons:\n",
    "    s1 = cv_distributions[a]\n",
    "    s2 = cv_distributions[b]\n",
    "    stat, pval = ttest_rel(s1, s2)\n",
    "    p_adj = min(pval * len(comparisons), 1.0)\n",
    "    print(f\"{a} vs {b}: t={stat:.3f}, p={pval:.4f}, p_adj={p_adj:.4f}\",\n",
    "        \"→ dif. sign.\" if p_adj<alpha else \"→ não dif.\")"
   ]
  },
  {
   "cell_type": "code",
   "execution_count": null,
   "id": "503599f6",
   "metadata": {},
   "outputs": [],
   "source": [
    "cv_means = {}\n",
    "for name, value in cv_distributions.items():\n",
    "    cv_means[name] = value.mean()"
   ]
  },
  {
   "cell_type": "code",
   "execution_count": null,
   "id": "9ff9b875",
   "metadata": {},
   "outputs": [],
   "source": [
    "plt.figure(figsize=(10, 6))\n",
    "sorted_items = sorted(cv_means.items(), key=lambda item: item[1])\n",
    "sns.barplot(x=[k for k, v in sorted_items], y=[v for k, v in sorted_items], palette='viridis', hue=[v for k, v in sorted_items], legend=False)\n",
    "plt.xlabel('Modelos')\n",
    "plt.ylabel('Mean Score')\n",
    "plt.title('Comparação de Modelos de Classificação')\n",
    "plt.tight_layout()\n",
    "plt.show()"
   ]
  },
  {
   "cell_type": "code",
   "execution_count": null,
   "id": "cdec1ebc",
   "metadata": {},
   "outputs": [],
   "source": [
    "# === 1. Resumo estatístico dos modelos ===\n",
    "import numpy as np\n",
    "import pandas as pd\n",
    "from scipy.stats import sem, t\n",
    "\n",
    "# Função para calcular IC95%\n",
    "def ci95(scores, confidence=0.95):\n",
    "    m    = scores.mean()\n",
    "    se   = sem(scores)\n",
    "    h    = se * t.ppf((1 + confidence) / 2, len(scores) - 1)\n",
    "    return m, m-h, m+h\n",
    "\n",
    "# Monta a lista de resumos\n",
    "rows = []\n",
    "for name, scores in cv_distributions.items():\n",
    "    m, lo, hi = ci95(scores)\n",
    "    held = best_estimators[name].score(x_test, y_test)\n",
    "    rows.append({\n",
    "        'modelo':     name,\n",
    "        'mean_cv':    m,\n",
    "        'std_cv':     scores.std(),\n",
    "        'ci95_lo':    lo,\n",
    "        'ci95_hi':    hi,\n",
    "        'heldout':    held\n",
    "    })\n",
    "\n",
    "# Cria o DataFrame e exibe\n",
    "df_summary = pd.DataFrame(rows).set_index('modelo')\n",
    "df_summary\n"
   ]
  }
 ],
 "metadata": {
  "kernelspec": {
   "display_name": "Python 3",
   "language": "python",
   "name": "python3"
  },
  "language_info": {
   "codemirror_mode": {
    "name": "ipython",
    "version": 3
   },
   "file_extension": ".py",
   "mimetype": "text/x-python",
   "name": "python",
   "nbconvert_exporter": "python",
   "pygments_lexer": "ipython3",
   "version": "3.12.10"
  }
 },
 "nbformat": 4,
 "nbformat_minor": 5
}
